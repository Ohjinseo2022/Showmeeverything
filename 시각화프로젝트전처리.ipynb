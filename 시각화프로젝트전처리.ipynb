{
  "nbformat": 4,
  "nbformat_minor": 0,
  "metadata": {
    "colab": {
      "provenance": [],
      "toc_visible": true,
      "mount_file_id": "1YaWsRbABWIGqh0nWF6w1i7z-BvsF3Aq-",
      "authorship_tag": "ABX9TyPEyIXj1sk+s37fsMwYgz6O",
      "include_colab_link": true
    },
    "kernelspec": {
      "name": "python3",
      "display_name": "Python 3"
    },
    "language_info": {
      "name": "python"
    }
  },
  "cells": [
    {
      "cell_type": "markdown",
      "metadata": {
        "id": "view-in-github",
        "colab_type": "text"
      },
      "source": [
        "<a href=\"https://colab.research.google.com/github/Ohjinseo2022/Showmeeverything/blob/master/%EC%8B%9C%EA%B0%81%ED%99%94%ED%94%84%EB%A1%9C%EC%A0%9D%ED%8A%B8%EC%A0%84%EC%B2%98%EB%A6%AC.ipynb\" target=\"_parent\"><img src=\"https://colab.research.google.com/assets/colab-badge.svg\" alt=\"Open In Colab\"/></a>"
      ]
    },
    {
      "cell_type": "code",
      "execution_count": 88,
      "metadata": {
        "id": "OMtuc9T9aq5-"
      },
      "outputs": [],
      "source": [
        "import chardet\n",
        "import pandas as pd\n",
        "import numpy as np\n",
        "import os\n",
        "import matplotlib\n",
        "import matplotlib.pyplot as plt\n",
        "from datetime import datetime, timedelta, date\n",
        "import datetime\n",
        "import csv\n",
        "#반복문 시간 확인\n",
        "from tqdm import tqdm"
      ]
    },
    {
      "cell_type": "code",
      "source": [
        "forders = os.listdir('/content/drive/MyDrive/시각화프로젝트/아파트(매매)')\n",
        "forders"
      ],
      "metadata": {
        "colab": {
          "base_uri": "https://localhost:8080/"
        },
        "id": "6ylF3dx-bm9c",
        "outputId": "41200bc1-3b2c-4dc9-dea9-3dc508ac1be1"
      },
      "execution_count": 3,
      "outputs": [
        {
          "output_type": "execute_result",
          "data": {
            "text/plain": [
              "['2009아파트(매매).csv',\n",
              " '2008아파트(매매).csv',\n",
              " '2007아파트(매매).csv',\n",
              " '2006아파트(매매).csv',\n",
              " '2015아파트(매매).csv',\n",
              " '2014아파트(매매).csv',\n",
              " '2013아파트(매매).csv',\n",
              " '2012아파트(매매).csv',\n",
              " '2011아파트(매매).csv',\n",
              " '2010아파트(매매).csv',\n",
              " '2022아파트(매매).csv',\n",
              " '2021아파트(매매).csv',\n",
              " '2020아파트(매매).csv',\n",
              " '2019아파트(매매).csv',\n",
              " '2018아파트(매매).csv',\n",
              " '2017아파트(매매).csv',\n",
              " '2016아파트(매매).csv']"
            ]
          },
          "metadata": {},
          "execution_count": 3
        }
      ]
    },
    {
      "cell_type": "code",
      "source": [
        "import pandas as pd\n",
        "import numpy as np\n",
        "import os\n",
        "\n",
        "forders = os.listdir('/content/drive/MyDrive/시각화프로젝트/아파트(매매)')\n",
        "forders\n",
        "# 폴더안에 있는 csv 손쉽게 통합 시키는 방법 \n",
        "trading_all = pd.DataFrame()\n",
        "for i in range(len(forders)):\n",
        "    if forders[i].split('.')[1] == 'csv': # split 함수를 사용하여 . 을 기준으로 두개의 리스트로 분리후 1번 인덱스 값이 csv인것만 추출\n",
        "        file = \"/content/drive/MyDrive/시각화프로젝트/아파트(매매)/\"+forders[i]# csv 파일만 변수에 저장\n",
        "        df = pd.read_csv(file, encoding='cp949')#csv파일 불러오기 \n",
        "        trading_all = pd.concat([trading_all,df])#concat 함수 사용하여 병합 \n"
      ],
      "metadata": {
        "id": "dJTeYJ0Ec7qb"
      },
      "execution_count": 4,
      "outputs": []
    },
    {
      "cell_type": "code",
      "source": [
        "trading_all.info()"
      ],
      "metadata": {
        "colab": {
          "base_uri": "https://localhost:8080/"
        },
        "id": "pKCthJGoijcf",
        "outputId": "23a05bab-a727-4223-d8bc-b418ca36ec6a"
      },
      "execution_count": 74,
      "outputs": [
        {
          "output_type": "stream",
          "name": "stdout",
          "text": [
            "<class 'pandas.core.frame.DataFrame'>\n",
            "Int64Index: 1236261 entries, 0 to 110321\n",
            "Data columns (total 15 columns):\n",
            " #   Column    Non-Null Count    Dtype  \n",
            "---  ------    --------------    -----  \n",
            " 0   시군구       1236261 non-null  object \n",
            " 1   번지        1236040 non-null  object \n",
            " 2   본번        1236186 non-null  float64\n",
            " 3   부번        1236186 non-null  float64\n",
            " 4   단지명       1236261 non-null  object \n",
            " 5   전용면적(㎡)   1236261 non-null  float64\n",
            " 6   계약년월      1236261 non-null  int64  \n",
            " 7   계약일       1236261 non-null  int64  \n",
            " 8   거래금액(만원)  1236261 non-null  object \n",
            " 9   층         1236261 non-null  int64  \n",
            " 10  건축년도      1236259 non-null  float64\n",
            " 11  도로명       1236261 non-null  object \n",
            " 12  해제사유발생일   5100 non-null     float64\n",
            " 13  거래유형      1236261 non-null  object \n",
            " 14  중개사소재지    1236261 non-null  object \n",
            "dtypes: float64(5), int64(3), object(7)\n",
            "memory usage: 183.2+ MB\n"
          ]
        }
      ]
    },
    {
      "cell_type": "code",
      "source": [
        "#문자열을 날짜형태로 바꿔주는 함수 \n",
        "def strtodate(str):\n",
        "    convert_date = datetime.datetime.strptime(str, \"%Y%m%d\").date()\n",
        "    return convert_date"
      ],
      "metadata": {
        "id": "Bh0YHpmAldcQ"
      },
      "execution_count": 65,
      "outputs": []
    },
    {
      "cell_type": "code",
      "source": [
        "temp = trading_all[['시군구','단지명','전용면적(㎡)','계약년월','계약일','거래금액(만원)','층','건축년도']] #우선 내가 필요한 컬럼 분리 \n",
        "temp1 = temp.values #전처리에 필요한 컬럼을 인덱스끼리 분리 \n",
        "temp_list = temp1.tolist() # 각각의 정보를 리스트형태로 변환 "
      ],
      "metadata": {
        "id": "DLbA9WXKczb0"
      },
      "execution_count": 59,
      "outputs": []
    },
    {
      "cell_type": "code",
      "source": [
        "temp_list[0][1]"
      ],
      "metadata": {
        "colab": {
          "base_uri": "https://localhost:8080/",
          "height": 35
        },
        "id": "C6fkvDHImt4j",
        "outputId": "a2e61e5b-8ec9-4686-ed3d-ff29c4b8f248"
      },
      "execution_count": 71,
      "outputs": [
        {
          "output_type": "execute_result",
          "data": {
            "text/plain": [
              "'개포2차현대아파트(220)'"
            ],
            "application/vnd.google.colaboratory.intrinsic+json": {
              "type": "string"
            }
          },
          "metadata": {},
          "execution_count": 71
        }
      ]
    },
    {
      "cell_type": "code",
      "source": [
        "temp_list[0][1] == \"롯데캐슬\" or temp_list[0][1] == \"힐스테이트\" or temp_list[0][1] == '자이' or temp_list[0][1] == '푸르지오' or temp_list[0][1] == 'e편한세상'"
      ],
      "metadata": {
        "colab": {
          "base_uri": "https://localhost:8080/"
        },
        "id": "p_yhVqiLk20j",
        "outputId": "ef9a5d29-d716-4d15-ae94-6078a8802e40"
      },
      "execution_count": 72,
      "outputs": [
        {
          "output_type": "execute_result",
          "data": {
            "text/plain": [
              "False"
            ]
          },
          "metadata": {},
          "execution_count": 72
        }
      ]
    },
    {
      "cell_type": "markdown",
      "source": [
        "  주소      단지명   전용면적  계약년월  계약일 거래금액(만원) 층 준공년도"
      ],
      "metadata": {
        "id": "r8-nBPcak5Jf"
      }
    },
    {
      "cell_type": "code",
      "source": [],
      "metadata": {
        "id": "bpP0fEfVj7-L"
      },
      "execution_count": 73,
      "outputs": []
    },
    {
      "cell_type": "code",
      "source": [
        "dateYMD = [] # 년월일을 담을 리스트\n",
        "dateYM = [] #년월을 담을 리스트\n",
        "dateMD = [] # 월일을 담을 리스트\n",
        "dateY = [] #년도를 담을 리스트\n",
        "dateM = [] # 월을 담을 리스트\n",
        "dateD = [] # 일을 담을 리스트 \n",
        "address_all = [] # 주소를 담을리스트 .\n",
        "address_city = [] # 시/ 도 정보를 담을 리스트.\n",
        "address_region = [] #행정구을 담을 리스트 .\n",
        "address_detail = [] # 행정동를 담을 리스트.\n",
        "type_list =[] # 단지명을 담을 리스트.\n",
        "brand_list = [] #브랜드 유무를 구분할 리스트\n",
        "land_area = [] # 전용면적을 담을 리스트 \n",
        "price_list = [] #거래금액을 담을 리스트 \n",
        "floor_list =[] #층정보를 담을 리스트\n",
        "completion_year= [] #준공년도\n",
        "completion = [] #건축년도 재컨축대상을 담을 리스트 \n",
        "avg_price =[] #평단가를 담을 리스트\n",
        "for i in tqdm(range(len(temp_list))):\n",
        "    ######주소 구문하여 나눠 넣기 \n",
        "    address_all.append(temp_list[i][0])\n",
        "    temp = temp_list[i][0].split(' ')# 공백을 기준으로 행정구와 동을 분리\n",
        "    address_city.append(temp[0])#시/도\n",
        "    address_region.append(temp[1]) # 행정구\n",
        "    address_detail.append(temp[2]) #행정동\n",
        "\n",
        "    ########브랜드 구문하여 넣기\n",
        "    type_list.append(temp_list[i][1]) #단지명\n",
        "    if \"롯데캐슬\" in temp_list[i][1] or \"힐스테이트\" in temp_list[i][1]  or '자이' in temp_list[i][1] or '푸르지오' in temp_list[i][1] or 'e편한세상' in temp_list[i][1]:\n",
        "      brand_list.append('유')\n",
        "    else:\n",
        "      brand_list.append('무')\n",
        "    land_area.append(temp_list[i][2]) #전용면적\n",
        "\n",
        "    #년월일을 분류하기 편하게 datetime형태로 변환함 \n",
        "    if temp_list[i][4]//10 == 0: #날짜를 조건에 맞춰 리스트에 추가 일자 값이 10미만이면 앞에 0을 추가 함\n",
        "        dateYMD.append(strtodate(str(temp_list[i][3])+'0'+str(temp_list[i][4]))) #날짜형태로 바꿔주는 함수 사용 \n",
        "    else:\n",
        "        dateYMD.append(strtodate(str(temp_list[i][3])+str(temp_list[i][4])))\n",
        "    \n",
        "    #거래금액    \n",
        "    price_list.append(int(temp_list[i][5].replace(',',''))) #가격사이에 , 를 제거후 숫자형태로 변환 \n",
        "    #층 정보\n",
        "\n",
        "    floor_list.append(temp_list[i][6])\n",
        "\n",
        "    #준공년도 30이상이면 재건축 대상에 들어갈수있음 2015년부터 40년에서 30년으로 규제완화\n",
        "    completion_year.append(temp_list[i][7])\n",
        "    if dateYMD[i].year <= 2014:\n",
        "        if dateYMD[i].year - temp_list[i][7] >= 40:\n",
        "          completion.append('대상')\n",
        "        else:\n",
        "          completion.append('비대상')\n",
        "    else:\n",
        "        if dateYMD[i].year - temp_list[i][7] >= 30:\n",
        "          completion.append('대상')\n",
        "        else:\n",
        "          completion.append('비대상')\n",
        "    #날짜를 구분하여 담음 \n",
        "    dateYM.append(dateYMD[i].strftime(\"%Y-%m\"))\n",
        "    dateMD.append(dateYMD[i].strftime(\"%m-%d\"))\n",
        "    dateY.append(dateYMD[i].year)\n",
        "    dateM.append(dateYMD[i].month)\n",
        "    dateD.append(dateYMD[i].day)\n",
        "\n",
        "# 평단가를 계산하는 for문 \n",
        "for i in range(len(price_list)):\n",
        "  avg_price.append(round(price_list[i]/land_area[i],3))\n",
        "\n",
        "#처리완료한 리스트들 을 다시 데이터프레임으로 병합 \n",
        "resultdf = pd.DataFrame({'주소':address_all,'시/도':address_city,'행정구':address_region,'행정동':address_detail,\n",
        "                         '단지명':type_list,'브랜드유무':brand_list,'년월일':dateYMD,'년월':dateYM,'월일':dateMD,'년':dateY,'월':dateM,'일':dateD,\n",
        "                         '전용면적(㎡)':land_area,'거래금액(만원)':price_list,'평단가':avg_price,'층':floor_list,'준공년도':completion_year,'재건축대상':completion})\n",
        "#시각화가 간편하도록 년월일 기준으로 정렬 \n",
        "sort_result = resultdf.sort_values(by=['년월일'])\n",
        "sort_result.to_csv(\"/content/drive/MyDrive/시각화프로젝트/아파트(매매)/아파트매매초기.csv\",index=False,encoding = 'cp949')"
      ],
      "metadata": {
        "colab": {
          "base_uri": "https://localhost:8080/"
        },
        "id": "unawL_I9kW5P",
        "outputId": "0cb36ed8-76ee-4a71-bff9-50fa649406d9"
      },
      "execution_count": 121,
      "outputs": [
        {
          "output_type": "stream",
          "name": "stderr",
          "text": [
            "100%|██████████| 1236261/1236261 [00:27<00:00, 44791.95it/s]\n"
          ]
        }
      ]
    },
    {
      "cell_type": "code",
      "source": [
        "sort_result"
      ],
      "metadata": {
        "colab": {
          "base_uri": "https://localhost:8080/",
          "height": 658
        },
        "id": "gvRyQw_bygrC",
        "outputId": "bf9eaa8e-908c-4fb1-f6d9-527161a88fa3"
      },
      "execution_count": 118,
      "outputs": [
        {
          "output_type": "execute_result",
          "data": {
            "text/plain": [
              "                      주소    시/도   행정구    행정동         단지명 브랜드유무         년월일  \\\n",
              "293703     서울특별시 양천구 신정동  서울특별시   양천구    신정동     목동신시가지9     무  2006-01-01   \n",
              "298800  서울특별시 영등포구 양평동2가  서울특별시  영등포구  양평동2가       삼성래미안     무  2006-01-01   \n",
              "216132     서울특별시 관악구 봉천동  서울특별시   관악구    봉천동        봉천우성     무  2006-01-01   \n",
              "236018     서울특별시 노원구 상계동  서울특별시   노원구    상계동   상계주공6(고층)     무  2006-01-01   \n",
              "271513     서울특별시 서초구 잠원동  서울특별시   서초구    잠원동        신반포2     무  2006-01-01   \n",
              "...                  ...    ...   ...    ...         ...   ...         ...   \n",
              "734295    서울특별시 영등포구 대림동  서울특별시  영등포구    대림동  신대림신동아파밀리에     무  2022-11-30   \n",
              "730130   서울특별시 동대문구 답십리동  서울특별시  동대문구   답십리동     힐스테이트청계     유  2022-11-30   \n",
              "725428     서울특별시 강남구 도곡동  서울특별시   강남구    도곡동      타워팰리스1     무  2022-11-30   \n",
              "732961   서울특별시 성북구 안암동5가  서울특별시   성북구  안암동5가    (160-16)     무  2022-11-30   \n",
              "732960   서울특별시 성북구 안암동5가  서울특별시   성북구  안암동5가    (160-16)     무  2022-11-30   \n",
              "\n",
              "             년월     월일     년   월   일   전용면적(㎡)  거래금액(만원)       평단가   층 재건축대상  \n",
              "293703  2006-01  01-01  2006   1   1   53.8200     33300   618.729   7   비대상  \n",
              "298800  2006-01  01-01  2006   1   1   59.4000     18000   303.030   2   비대상  \n",
              "216132  2006-01  01-01  2006   1   1   59.7600     16900   282.798   3   비대상  \n",
              "236018  2006-01  01-01  2006   1   1   59.2000     13500   228.041  12   비대상  \n",
              "271513  2006-01  01-01  2006   1   1   79.4200     56700   713.926   4   비대상  \n",
              "...         ...    ...   ...  ..  ..       ...       ...       ...  ..   ...  \n",
              "734295  2022-11  11-30  2022  11  30  126.3249     68000   538.295   2   비대상  \n",
              "730130  2022-11  11-30  2022  11  30   84.8500    120000  1414.260  26   비대상  \n",
              "725428  2022-11  11-30  2022  11  30  137.2400    345000  2513.844  28   비대상  \n",
              "732961  2022-11  11-30  2022  11  30   22.7200     11300   497.359   1   비대상  \n",
              "732960  2022-11  11-30  2022  11  30   22.7200     11300   497.359   3   비대상  \n",
              "\n",
              "[1236261 rows x 17 columns]"
            ],
            "text/html": [
              "\n",
              "  <div id=\"df-1e8c2e51-1459-4dc9-88ab-d1bd3f36485a\">\n",
              "    <div class=\"colab-df-container\">\n",
              "      <div>\n",
              "<style scoped>\n",
              "    .dataframe tbody tr th:only-of-type {\n",
              "        vertical-align: middle;\n",
              "    }\n",
              "\n",
              "    .dataframe tbody tr th {\n",
              "        vertical-align: top;\n",
              "    }\n",
              "\n",
              "    .dataframe thead th {\n",
              "        text-align: right;\n",
              "    }\n",
              "</style>\n",
              "<table border=\"1\" class=\"dataframe\">\n",
              "  <thead>\n",
              "    <tr style=\"text-align: right;\">\n",
              "      <th></th>\n",
              "      <th>주소</th>\n",
              "      <th>시/도</th>\n",
              "      <th>행정구</th>\n",
              "      <th>행정동</th>\n",
              "      <th>단지명</th>\n",
              "      <th>브랜드유무</th>\n",
              "      <th>년월일</th>\n",
              "      <th>년월</th>\n",
              "      <th>월일</th>\n",
              "      <th>년</th>\n",
              "      <th>월</th>\n",
              "      <th>일</th>\n",
              "      <th>전용면적(㎡)</th>\n",
              "      <th>거래금액(만원)</th>\n",
              "      <th>평단가</th>\n",
              "      <th>층</th>\n",
              "      <th>재건축대상</th>\n",
              "    </tr>\n",
              "  </thead>\n",
              "  <tbody>\n",
              "    <tr>\n",
              "      <th>293703</th>\n",
              "      <td>서울특별시 양천구 신정동</td>\n",
              "      <td>서울특별시</td>\n",
              "      <td>양천구</td>\n",
              "      <td>신정동</td>\n",
              "      <td>목동신시가지9</td>\n",
              "      <td>무</td>\n",
              "      <td>2006-01-01</td>\n",
              "      <td>2006-01</td>\n",
              "      <td>01-01</td>\n",
              "      <td>2006</td>\n",
              "      <td>1</td>\n",
              "      <td>1</td>\n",
              "      <td>53.8200</td>\n",
              "      <td>33300</td>\n",
              "      <td>618.729</td>\n",
              "      <td>7</td>\n",
              "      <td>비대상</td>\n",
              "    </tr>\n",
              "    <tr>\n",
              "      <th>298800</th>\n",
              "      <td>서울특별시 영등포구 양평동2가</td>\n",
              "      <td>서울특별시</td>\n",
              "      <td>영등포구</td>\n",
              "      <td>양평동2가</td>\n",
              "      <td>삼성래미안</td>\n",
              "      <td>무</td>\n",
              "      <td>2006-01-01</td>\n",
              "      <td>2006-01</td>\n",
              "      <td>01-01</td>\n",
              "      <td>2006</td>\n",
              "      <td>1</td>\n",
              "      <td>1</td>\n",
              "      <td>59.4000</td>\n",
              "      <td>18000</td>\n",
              "      <td>303.030</td>\n",
              "      <td>2</td>\n",
              "      <td>비대상</td>\n",
              "    </tr>\n",
              "    <tr>\n",
              "      <th>216132</th>\n",
              "      <td>서울특별시 관악구 봉천동</td>\n",
              "      <td>서울특별시</td>\n",
              "      <td>관악구</td>\n",
              "      <td>봉천동</td>\n",
              "      <td>봉천우성</td>\n",
              "      <td>무</td>\n",
              "      <td>2006-01-01</td>\n",
              "      <td>2006-01</td>\n",
              "      <td>01-01</td>\n",
              "      <td>2006</td>\n",
              "      <td>1</td>\n",
              "      <td>1</td>\n",
              "      <td>59.7600</td>\n",
              "      <td>16900</td>\n",
              "      <td>282.798</td>\n",
              "      <td>3</td>\n",
              "      <td>비대상</td>\n",
              "    </tr>\n",
              "    <tr>\n",
              "      <th>236018</th>\n",
              "      <td>서울특별시 노원구 상계동</td>\n",
              "      <td>서울특별시</td>\n",
              "      <td>노원구</td>\n",
              "      <td>상계동</td>\n",
              "      <td>상계주공6(고층)</td>\n",
              "      <td>무</td>\n",
              "      <td>2006-01-01</td>\n",
              "      <td>2006-01</td>\n",
              "      <td>01-01</td>\n",
              "      <td>2006</td>\n",
              "      <td>1</td>\n",
              "      <td>1</td>\n",
              "      <td>59.2000</td>\n",
              "      <td>13500</td>\n",
              "      <td>228.041</td>\n",
              "      <td>12</td>\n",
              "      <td>비대상</td>\n",
              "    </tr>\n",
              "    <tr>\n",
              "      <th>271513</th>\n",
              "      <td>서울특별시 서초구 잠원동</td>\n",
              "      <td>서울특별시</td>\n",
              "      <td>서초구</td>\n",
              "      <td>잠원동</td>\n",
              "      <td>신반포2</td>\n",
              "      <td>무</td>\n",
              "      <td>2006-01-01</td>\n",
              "      <td>2006-01</td>\n",
              "      <td>01-01</td>\n",
              "      <td>2006</td>\n",
              "      <td>1</td>\n",
              "      <td>1</td>\n",
              "      <td>79.4200</td>\n",
              "      <td>56700</td>\n",
              "      <td>713.926</td>\n",
              "      <td>4</td>\n",
              "      <td>비대상</td>\n",
              "    </tr>\n",
              "    <tr>\n",
              "      <th>...</th>\n",
              "      <td>...</td>\n",
              "      <td>...</td>\n",
              "      <td>...</td>\n",
              "      <td>...</td>\n",
              "      <td>...</td>\n",
              "      <td>...</td>\n",
              "      <td>...</td>\n",
              "      <td>...</td>\n",
              "      <td>...</td>\n",
              "      <td>...</td>\n",
              "      <td>...</td>\n",
              "      <td>...</td>\n",
              "      <td>...</td>\n",
              "      <td>...</td>\n",
              "      <td>...</td>\n",
              "      <td>...</td>\n",
              "      <td>...</td>\n",
              "    </tr>\n",
              "    <tr>\n",
              "      <th>734295</th>\n",
              "      <td>서울특별시 영등포구 대림동</td>\n",
              "      <td>서울특별시</td>\n",
              "      <td>영등포구</td>\n",
              "      <td>대림동</td>\n",
              "      <td>신대림신동아파밀리에</td>\n",
              "      <td>무</td>\n",
              "      <td>2022-11-30</td>\n",
              "      <td>2022-11</td>\n",
              "      <td>11-30</td>\n",
              "      <td>2022</td>\n",
              "      <td>11</td>\n",
              "      <td>30</td>\n",
              "      <td>126.3249</td>\n",
              "      <td>68000</td>\n",
              "      <td>538.295</td>\n",
              "      <td>2</td>\n",
              "      <td>비대상</td>\n",
              "    </tr>\n",
              "    <tr>\n",
              "      <th>730130</th>\n",
              "      <td>서울특별시 동대문구 답십리동</td>\n",
              "      <td>서울특별시</td>\n",
              "      <td>동대문구</td>\n",
              "      <td>답십리동</td>\n",
              "      <td>힐스테이트청계</td>\n",
              "      <td>유</td>\n",
              "      <td>2022-11-30</td>\n",
              "      <td>2022-11</td>\n",
              "      <td>11-30</td>\n",
              "      <td>2022</td>\n",
              "      <td>11</td>\n",
              "      <td>30</td>\n",
              "      <td>84.8500</td>\n",
              "      <td>120000</td>\n",
              "      <td>1414.260</td>\n",
              "      <td>26</td>\n",
              "      <td>비대상</td>\n",
              "    </tr>\n",
              "    <tr>\n",
              "      <th>725428</th>\n",
              "      <td>서울특별시 강남구 도곡동</td>\n",
              "      <td>서울특별시</td>\n",
              "      <td>강남구</td>\n",
              "      <td>도곡동</td>\n",
              "      <td>타워팰리스1</td>\n",
              "      <td>무</td>\n",
              "      <td>2022-11-30</td>\n",
              "      <td>2022-11</td>\n",
              "      <td>11-30</td>\n",
              "      <td>2022</td>\n",
              "      <td>11</td>\n",
              "      <td>30</td>\n",
              "      <td>137.2400</td>\n",
              "      <td>345000</td>\n",
              "      <td>2513.844</td>\n",
              "      <td>28</td>\n",
              "      <td>비대상</td>\n",
              "    </tr>\n",
              "    <tr>\n",
              "      <th>732961</th>\n",
              "      <td>서울특별시 성북구 안암동5가</td>\n",
              "      <td>서울특별시</td>\n",
              "      <td>성북구</td>\n",
              "      <td>안암동5가</td>\n",
              "      <td>(160-16)</td>\n",
              "      <td>무</td>\n",
              "      <td>2022-11-30</td>\n",
              "      <td>2022-11</td>\n",
              "      <td>11-30</td>\n",
              "      <td>2022</td>\n",
              "      <td>11</td>\n",
              "      <td>30</td>\n",
              "      <td>22.7200</td>\n",
              "      <td>11300</td>\n",
              "      <td>497.359</td>\n",
              "      <td>1</td>\n",
              "      <td>비대상</td>\n",
              "    </tr>\n",
              "    <tr>\n",
              "      <th>732960</th>\n",
              "      <td>서울특별시 성북구 안암동5가</td>\n",
              "      <td>서울특별시</td>\n",
              "      <td>성북구</td>\n",
              "      <td>안암동5가</td>\n",
              "      <td>(160-16)</td>\n",
              "      <td>무</td>\n",
              "      <td>2022-11-30</td>\n",
              "      <td>2022-11</td>\n",
              "      <td>11-30</td>\n",
              "      <td>2022</td>\n",
              "      <td>11</td>\n",
              "      <td>30</td>\n",
              "      <td>22.7200</td>\n",
              "      <td>11300</td>\n",
              "      <td>497.359</td>\n",
              "      <td>3</td>\n",
              "      <td>비대상</td>\n",
              "    </tr>\n",
              "  </tbody>\n",
              "</table>\n",
              "<p>1236261 rows × 17 columns</p>\n",
              "</div>\n",
              "      <button class=\"colab-df-convert\" onclick=\"convertToInteractive('df-1e8c2e51-1459-4dc9-88ab-d1bd3f36485a')\"\n",
              "              title=\"Convert this dataframe to an interactive table.\"\n",
              "              style=\"display:none;\">\n",
              "        \n",
              "  <svg xmlns=\"http://www.w3.org/2000/svg\" height=\"24px\"viewBox=\"0 0 24 24\"\n",
              "       width=\"24px\">\n",
              "    <path d=\"M0 0h24v24H0V0z\" fill=\"none\"/>\n",
              "    <path d=\"M18.56 5.44l.94 2.06.94-2.06 2.06-.94-2.06-.94-.94-2.06-.94 2.06-2.06.94zm-11 1L8.5 8.5l.94-2.06 2.06-.94-2.06-.94L8.5 2.5l-.94 2.06-2.06.94zm10 10l.94 2.06.94-2.06 2.06-.94-2.06-.94-.94-2.06-.94 2.06-2.06.94z\"/><path d=\"M17.41 7.96l-1.37-1.37c-.4-.4-.92-.59-1.43-.59-.52 0-1.04.2-1.43.59L10.3 9.45l-7.72 7.72c-.78.78-.78 2.05 0 2.83L4 21.41c.39.39.9.59 1.41.59.51 0 1.02-.2 1.41-.59l7.78-7.78 2.81-2.81c.8-.78.8-2.07 0-2.86zM5.41 20L4 18.59l7.72-7.72 1.47 1.35L5.41 20z\"/>\n",
              "  </svg>\n",
              "      </button>\n",
              "      \n",
              "  <style>\n",
              "    .colab-df-container {\n",
              "      display:flex;\n",
              "      flex-wrap:wrap;\n",
              "      gap: 12px;\n",
              "    }\n",
              "\n",
              "    .colab-df-convert {\n",
              "      background-color: #E8F0FE;\n",
              "      border: none;\n",
              "      border-radius: 50%;\n",
              "      cursor: pointer;\n",
              "      display: none;\n",
              "      fill: #1967D2;\n",
              "      height: 32px;\n",
              "      padding: 0 0 0 0;\n",
              "      width: 32px;\n",
              "    }\n",
              "\n",
              "    .colab-df-convert:hover {\n",
              "      background-color: #E2EBFA;\n",
              "      box-shadow: 0px 1px 2px rgba(60, 64, 67, 0.3), 0px 1px 3px 1px rgba(60, 64, 67, 0.15);\n",
              "      fill: #174EA6;\n",
              "    }\n",
              "\n",
              "    [theme=dark] .colab-df-convert {\n",
              "      background-color: #3B4455;\n",
              "      fill: #D2E3FC;\n",
              "    }\n",
              "\n",
              "    [theme=dark] .colab-df-convert:hover {\n",
              "      background-color: #434B5C;\n",
              "      box-shadow: 0px 1px 3px 1px rgba(0, 0, 0, 0.15);\n",
              "      filter: drop-shadow(0px 1px 2px rgba(0, 0, 0, 0.3));\n",
              "      fill: #FFFFFF;\n",
              "    }\n",
              "  </style>\n",
              "\n",
              "      <script>\n",
              "        const buttonEl =\n",
              "          document.querySelector('#df-1e8c2e51-1459-4dc9-88ab-d1bd3f36485a button.colab-df-convert');\n",
              "        buttonEl.style.display =\n",
              "          google.colab.kernel.accessAllowed ? 'block' : 'none';\n",
              "\n",
              "        async function convertToInteractive(key) {\n",
              "          const element = document.querySelector('#df-1e8c2e51-1459-4dc9-88ab-d1bd3f36485a');\n",
              "          const dataTable =\n",
              "            await google.colab.kernel.invokeFunction('convertToInteractive',\n",
              "                                                     [key], {});\n",
              "          if (!dataTable) return;\n",
              "\n",
              "          const docLinkHtml = 'Like what you see? Visit the ' +\n",
              "            '<a target=\"_blank\" href=https://colab.research.google.com/notebooks/data_table.ipynb>data table notebook</a>'\n",
              "            + ' to learn more about interactive tables.';\n",
              "          element.innerHTML = '';\n",
              "          dataTable['output_type'] = 'display_data';\n",
              "          await google.colab.output.renderOutput(dataTable, element);\n",
              "          const docLink = document.createElement('div');\n",
              "          docLink.innerHTML = docLinkHtml;\n",
              "          element.appendChild(docLink);\n",
              "        }\n",
              "      </script>\n",
              "    </div>\n",
              "  </div>\n",
              "  "
            ]
          },
          "metadata": {},
          "execution_count": 118
        }
      ]
    },
    {
      "cell_type": "code",
      "source": [
        "for i in range(len(price_list)):\n",
        "  avg_price.append(round(price_list[i]/land_area[i],3))\n"
      ],
      "metadata": {
        "id": "hD0-UXTGvDJ8"
      },
      "execution_count": 113,
      "outputs": []
    },
    {
      "cell_type": "code",
      "source": [
        "len(dateYMD),len(dateYM),len(dateMD),len(dateY),len(dateM),len(dateD),len(address_all),len(address_region),len(address_detail),len(type_list),len(brand_list),len(land_area),len(price_list),len(floor_list),len(completion),len(avg_price)"
      ],
      "metadata": {
        "colab": {
          "base_uri": "https://localhost:8080/"
        },
        "id": "hwYcLRA7pMET",
        "outputId": "61cc5736-4f1d-4b5b-f66d-97969b0aa7fd"
      },
      "execution_count": 103,
      "outputs": [
        {
          "output_type": "execute_result",
          "data": {
            "text/plain": [
              "(1236261,\n",
              " 1236261,\n",
              " 1236261,\n",
              " 1236261,\n",
              " 1236261,\n",
              " 1236261,\n",
              " 1236261,\n",
              " 1236261,\n",
              " 1236261,\n",
              " 1236261,\n",
              " 1236261,\n",
              " 1236261,\n",
              " 1236261,\n",
              " 1236261,\n",
              " 1236261)"
            ]
          },
          "metadata": {},
          "execution_count": 103
        }
      ]
    },
    {
      "cell_type": "code",
      "source": [
        "dateYMD[0].strftime(\"%Y-%m\")"
      ],
      "metadata": {
        "colab": {
          "base_uri": "https://localhost:8080/",
          "height": 35
        },
        "id": "UMzdX_mIq2Ov",
        "outputId": "a6a292a8-5437-4f2a-9a40-8a76e03481ae"
      },
      "execution_count": 101,
      "outputs": [
        {
          "output_type": "execute_result",
          "data": {
            "text/plain": [
              "'2009-04'"
            ],
            "application/vnd.google.colaboratory.intrinsic+json": {
              "type": "string"
            }
          },
          "metadata": {},
          "execution_count": 101
        }
      ]
    },
    {
      "cell_type": "code",
      "source": [
        "년월일\n",
        "년월\n",
        "월일\n",
        "년\n",
        "월\n",
        "일\n",
        "\n",
        "주소\n",
        "\n",
        "시/도\n",
        "\n",
        "행정구\n",
        "\n",
        "행정동"
      ],
      "metadata": {
        "id": "wVLYAP44fZMH"
      },
      "execution_count": 44,
      "outputs": []
    },
    {
      "cell_type": "code",
      "source": [
        "strtodate(str(temp_list[0][3])+str(temp_list[0][4])).year - temp_list[0][7]"
      ],
      "metadata": {
        "colab": {
          "base_uri": "https://localhost:8080/"
        },
        "id": "EEskwa-Rn3Yz",
        "outputId": "bdcbe8f4-4b04-4b43-e8b2-4a0848157006"
      },
      "execution_count": 85,
      "outputs": [
        {
          "output_type": "execute_result",
          "data": {
            "text/plain": [
              "21.0"
            ]
          },
          "metadata": {},
          "execution_count": 85
        }
      ]
    },
    {
      "cell_type": "code",
      "source": [
        "temp_list[0][7]"
      ],
      "metadata": {
        "colab": {
          "base_uri": "https://localhost:8080/"
        },
        "id": "kSLPtzx0j19z",
        "outputId": "0d121f6d-eac8-4823-d1ae-d32136578ea7"
      },
      "execution_count": 84,
      "outputs": [
        {
          "output_type": "execute_result",
          "data": {
            "text/plain": [
              "1988.0"
            ]
          },
          "metadata": {},
          "execution_count": 84
        }
      ]
    },
    {
      "cell_type": "code",
      "source": [
        "trading_all = trading_all.drop(['년월일'],axis =1)"
      ],
      "metadata": {
        "id": "292_Gn6-fqLC"
      },
      "execution_count": 46,
      "outputs": []
    }
  ]
}